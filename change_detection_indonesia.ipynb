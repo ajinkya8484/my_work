{
  "nbformat": 4,
  "nbformat_minor": 0,
  "metadata": {
    "colab": {
      "name": "change_detection_indonesia.ipynb",
      "version": "0.3.2",
      "provenance": [],
      "include_colab_link": true
    },
    "kernelspec": {
      "name": "python3",
      "display_name": "Python 3"
    },
    "accelerator": "GPU"
  },
  "cells": [
    {
      "cell_type": "markdown",
      "metadata": {
        "id": "view-in-github",
        "colab_type": "text"
      },
      "source": [
        "<a href=\"https://colab.research.google.com/github/ajinkya8484/my_work/blob/master/change_detection_indonesia.ipynb\" target=\"_parent\"><img src=\"https://colab.research.google.com/assets/colab-badge.svg\" alt=\"Open In Colab\"/></a>"
      ]
    },
    {
      "metadata": {
        "id": "5oveo2l0_7aM",
        "colab_type": "code",
        "colab": {
          "base_uri": "https://localhost:8080/",
          "height": 615
        },
        "outputId": "284e6ffc-d9ad-47c2-d207-c50ba0d403da"
      },
      "cell_type": "code",
      "source": [
        "import cv2\n",
        "import numpy as np\n",
        "from sklearn.cluster import KMeans\n",
        "from sklearn.decomposition import PCA\n",
        "from collections import Counter\n",
        "from scipy.misc import imread, imresize, imsave\n",
        "\n",
        "\n",
        "def find_vector_set(diff_image, new_size):\n",
        "   \n",
        "    i = 0\n",
        "    j = 0\n",
        "    num = (((new_size[0] * new_size[1]) / 25).astype(int), 25)\n",
        "    vector_set = np.zeros(num)\n",
        "    while i < vector_set.shape[0]:\n",
        "        while j < new_size[0]:\n",
        "            k = 0\n",
        "            while k < new_size[1]:\n",
        "                block = diff_image[j:j+5, k:k+5]\n",
        "                feature = block.ravel()\n",
        "                #print(vector_set.shape)\n",
        "                #print(block)\n",
        "                #print(feature)\n",
        "                vector_set[i, :] = feature\n",
        "                k = k + 5\n",
        "            j = j + 5\n",
        "        i = i + 1\n",
        "        \n",
        "    print('\\nvector_set shape', vector_set.shape)\n",
        "            \n",
        "    mean_vec = np.mean(vector_set, axis=0)\n",
        "    vector_set = vector_set - mean_vec\n",
        "    \n",
        "    return vector_set, mean_vec\n",
        "    \n",
        "  \n",
        "def find_FVS(EVS, diff_image, mean_vec, new):\n",
        "    \n",
        "    i = 2 \n",
        "    feature_vector_set = []\n",
        "    \n",
        "    while i < new[0] - 2:\n",
        "        j = 2\n",
        "        while j < new[1] - 2:\n",
        "            block = diff_image[i-2:i+3, j-2:j+3]\n",
        "            feature = block.flatten()\n",
        "            feature_vector_set.append(feature)\n",
        "            j = j+1\n",
        "        i = i+1\n",
        "        \n",
        "    FVS = np.dot(feature_vector_set, EVS)\n",
        "    FVS = FVS - mean_vec\n",
        "    print(\"\\nfeature vector space size\", FVS.shape)\n",
        "    return FVS\n",
        "\n",
        "def clustering(FVS, components, new):\n",
        "    \n",
        "    kmeans = KMeans(components, verbose=0)\n",
        "    kmeans.fit(FVS)\n",
        "    output = kmeans.predict(FVS)\n",
        "    count = Counter(output)\n",
        "\n",
        "    least_index = min(count, key=count.get)\n",
        "    change_map = np.reshape(output, (new[0].astype(int) - 4, new[1].astype(int) - 4))\n",
        "    \n",
        "    return least_index, change_map\n",
        "\n",
        "   \n",
        "def find_PCAKmeans(imagepath1, imagepath2):\n",
        "    \n",
        "    print('Operating')\n",
        "    \n",
        "    image1 = imread(imagepath1)\n",
        "    image2 = imread(imagepath2)\n",
        "    print(image1.shape)\n",
        "    print(image2.shape)\n",
        "\n",
        "    new_size = np.asarray(image1.shape) / 5 * 5\n",
        "    image1 = imresize(image1, new_size).astype(np.int16)\n",
        "    image2 = imresize(image2, new_size).astype(np.int16)\n",
        "\n",
        "    print(image1.shape)\n",
        "    print(image2.shape)\n",
        "    \n",
        "    diff_image = abs(image1 - image2)   \n",
        "    imsave('diff.jpg', diff_image)\n",
        "    print('\\nBoth images resized to ', new_size)\n",
        "        \n",
        "    vector_set, mean_vec = find_vector_set(diff_image, new_size)\n",
        "    \n",
        "    pca = PCA()\n",
        "    pca.fit(vector_set)\n",
        "    EVS = pca.components_\n",
        "        \n",
        "    FVS = find_FVS(EVS, diff_image, mean_vec, new_size)\n",
        "    \n",
        "    print('\\ncomputing k means')\n",
        "    \n",
        "    components = 3\n",
        "    least_index, change_map = clustering(FVS, components, new_size)\n",
        "    \n",
        "    change_map[change_map == least_index] = 255\n",
        "    change_map[change_map != 255] = 0\n",
        "    \n",
        "    change_map = change_map.astype(np.uint8)\n",
        "    kernel = np.asarray(((0, 0, 1, 0, 0),\n",
        "                        (0, 1, 1, 1, 0),\n",
        "                        (1, 1, 1, 1, 1),\n",
        "                        (0, 1, 1, 1, 0),\n",
        "                        (0, 0, 1, 0, 0)), dtype=np.uint8)\n",
        "    cleanChangeMap = cv2.erode(change_map, kernel)\n",
        "    imsave(\"indonesia_changemap.jpg\", change_map)\n",
        "    imsave(\"indonesia_cleanchangemap.jpg\", cleanChangeMap)\n",
        "\n",
        "    \n",
        "if __name__ == \"__main__\":\n",
        "    a = 'pre event 5000 BW.jpg'\n",
        "    b = 'post event 5000 BW.jpg'\n",
        "    #a = 'Andasol_09051987.jpg'\n",
        "    #b = 'Andasol_09122013.jpg'\n",
        "    find_PCAKmeans(a, b)"
      ],
      "execution_count": 4,
      "outputs": [
        {
          "output_type": "stream",
          "text": [
            "Operating\n"
          ],
          "name": "stdout"
        },
        {
          "output_type": "stream",
          "text": [
            "/usr/local/lib/python3.6/dist-packages/ipykernel_launcher.py:73: DeprecationWarning: `imread` is deprecated!\n",
            "`imread` is deprecated in SciPy 1.0.0, and will be removed in 1.2.0.\n",
            "Use ``imageio.imread`` instead.\n",
            "/usr/local/lib/python3.6/dist-packages/ipykernel_launcher.py:74: DeprecationWarning: `imread` is deprecated!\n",
            "`imread` is deprecated in SciPy 1.0.0, and will be removed in 1.2.0.\n",
            "Use ``imageio.imread`` instead.\n"
          ],
          "name": "stderr"
        },
        {
          "output_type": "stream",
          "text": [
            "(3500, 3500)\n",
            "(3500, 3500)\n",
            "(3500, 3500)\n",
            "(3500, 3500)\n"
          ],
          "name": "stdout"
        },
        {
          "output_type": "stream",
          "text": [
            "/usr/local/lib/python3.6/dist-packages/ipykernel_launcher.py:79: DeprecationWarning: `imresize` is deprecated!\n",
            "`imresize` is deprecated in SciPy 1.0.0, and will be removed in 1.2.0.\n",
            "Use ``skimage.transform.resize`` instead.\n",
            "/usr/local/lib/python3.6/dist-packages/ipykernel_launcher.py:80: DeprecationWarning: `imresize` is deprecated!\n",
            "`imresize` is deprecated in SciPy 1.0.0, and will be removed in 1.2.0.\n",
            "Use ``skimage.transform.resize`` instead.\n",
            "/usr/local/lib/python3.6/dist-packages/ipykernel_launcher.py:86: DeprecationWarning: `imsave` is deprecated!\n",
            "`imsave` is deprecated in SciPy 1.0.0, and will be removed in 1.2.0.\n",
            "Use ``imageio.imwrite`` instead.\n"
          ],
          "name": "stderr"
        },
        {
          "output_type": "stream",
          "text": [
            "\n",
            "Both images resized to  [3500. 3500.]\n",
            "\n",
            "vector_set shape (490000, 25)\n",
            "\n",
            "feature vector space size (12222016, 25)\n",
            "\n",
            "computing k means\n"
          ],
          "name": "stdout"
        },
        {
          "output_type": "stream",
          "text": [
            "/usr/local/lib/python3.6/dist-packages/ipykernel_launcher.py:112: DeprecationWarning: `imsave` is deprecated!\n",
            "`imsave` is deprecated in SciPy 1.0.0, and will be removed in 1.2.0.\n",
            "Use ``imageio.imwrite`` instead.\n",
            "/usr/local/lib/python3.6/dist-packages/ipykernel_launcher.py:113: DeprecationWarning: `imsave` is deprecated!\n",
            "`imsave` is deprecated in SciPy 1.0.0, and will be removed in 1.2.0.\n",
            "Use ``imageio.imwrite`` instead.\n"
          ],
          "name": "stderr"
        }
      ]
    },
    {
      "metadata": {
        "id": "kIty8Iw6L-yI",
        "colab_type": "code",
        "colab": {
          "base_uri": "https://localhost:8080/",
          "height": 34
        },
        "outputId": "c98d8847-d0ea-4c6d-8dbb-879dbe06a79b"
      },
      "cell_type": "code",
      "source": [
        "ls\n"
      ],
      "execution_count": 2,
      "outputs": [
        {
          "output_type": "stream",
          "text": [
            "'post event 5000 BW.jpg'  'pre event 5000 BW.jpg'   \u001b[0m\u001b[01;34msample_data\u001b[0m/\n"
          ],
          "name": "stdout"
        }
      ]
    }
  ]
}